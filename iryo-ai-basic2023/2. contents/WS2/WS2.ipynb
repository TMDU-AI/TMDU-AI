{
  "nbformat": 4,
  "nbformat_minor": 0,
  "metadata": {
    "colab": {
      "provenance": []
    },
    "kernelspec": {
      "name": "python3",
      "display_name": "Python 3"
    },
    "language_info": {
      "name": "python"
    }
  },
  "cells": [
    {
      "cell_type": "markdown",
      "source": [
        "## **深層学習　画像データセットで分類を行う**"
      ],
      "metadata": {
        "id": "_x4Ci1ORQ7ZK"
      }
    },
    {
      "cell_type": "markdown",
      "source": [
        "# **STEP0：事前準備**"
      ],
      "metadata": {
        "id": "9hXa6V7iRFuF"
      }
    },
    {
      "cell_type": "markdown",
      "source": [
        "**コード2-1 Google Driveのマウント**"
      ],
      "metadata": {
        "id": "1L3DFmjCgmwi"
      }
    },
    {
      "cell_type": "code",
      "source": [
        "from google.colab import drive\n",
        "drive.mount('/content/drive', force_remount = True)"
      ],
      "metadata": {
        "id": "NEg6ASDmbl4I"
      },
      "execution_count": null,
      "outputs": []
    },
    {
      "cell_type": "markdown",
      "source": [
        "**コード2-2 zipファイルを解凍する**"
      ],
      "metadata": {
        "id": "0H0LcieuhIW5"
      }
    },
    {
      "cell_type": "code",
      "source": [
        "!unzip '/content/drive/MyDrive/images_TMDU_2023.zip'"
      ],
      "metadata": {
        "id": "EAtxy54P2Say"
      },
      "execution_count": null,
      "outputs": []
    },
    {
      "cell_type": "markdown",
      "source": [
        "**コード2-3 ライブラリ・モジュール・クラスをインポート**"
      ],
      "metadata": {
        "id": "bMCrcTNRk74y"
      }
    },
    {
      "cell_type": "code",
      "source": [
        "import numpy as np\n",
        "import matplotlib.pyplot as plt\n",
        "import os\n",
        "import tensorflow as tf\n",
        "from keras.preprocessing.image import load_img, img_to_array\n",
        "from keras.models import Sequential\n",
        "from keras.layers import Dense, Flatten, Dropout\n",
        "from keras.utils import set_random_seed"
      ],
      "metadata": {
        "id": "mQ6Es0csvAzE"
      },
      "execution_count": 3,
      "outputs": []
    },
    {
      "cell_type": "markdown",
      "source": [
        "**コード2-4 画像の読み込みと図示**"
      ],
      "metadata": {
        "id": "t8vPfg4NQHBJ"
      }
    },
    {
      "cell_type": "code",
      "source": [
        "test = load_img('/content/images/test.jpg',\n",
        "                 color_mode='grayscale',\n",
        "                 target_size=(10,10))\n",
        "plt.imshow(test, 'gray')\n",
        "plt.show()\n",
        "print(test)"
      ],
      "metadata": {
        "id": "kJMlo1fANIj2"
      },
      "execution_count": null,
      "outputs": []
    },
    {
      "cell_type": "markdown",
      "source": [
        "**コード2-5 画像データを配列データに変換**"
      ],
      "metadata": {
        "id": "uLND0pqgKtMN"
      }
    },
    {
      "cell_type": "code",
      "source": [
        "test_array = img_to_array(test)\n",
        "print(test_array)\n",
        "print(test_array.shape)"
      ],
      "metadata": {
        "id": "It8G7hMhNSCU"
      },
      "execution_count": null,
      "outputs": []
    },
    {
      "cell_type": "markdown",
      "source": [
        "# **STEP1：データの用意と前処理（説明をしないので、コード2-1-1〜コード2-1-17まではそのまま実行してください）**"
      ],
      "metadata": {
        "id": "TuomJBeED5S7"
      }
    },
    {
      "cell_type": "markdown",
      "source": [
        "**コード2-1-1 ファイル名のリストを作成**"
      ],
      "metadata": {
        "id": "rOBB0chQnkV8"
      }
    },
    {
      "cell_type": "code",
      "source": [
        "list_healthy = [i for i in os.listdir('/content/images/COVID-NORMAL/healthy') if not i.startswith('.')]\n",
        "list_covid19 = [i for i in os.listdir('/content/images/COVID-NORMAL/covid19') if not i.startswith('.')]"
      ],
      "metadata": {
        "id": "Nm78jBf64PM8"
      },
      "execution_count": 6,
      "outputs": []
    },
    {
      "cell_type": "markdown",
      "source": [
        "**コード2-1-7 画像ファイル数の集計**"
      ],
      "metadata": {
        "id": "hugH9INAvgJX"
      }
    },
    {
      "cell_type": "code",
      "source": [
        "num_healthy = len(list_healthy)\n",
        "num_covid19 = len(list_covid19)\n",
        "num_all = num_healthy + num_covid19\n",
        "print(num_all)"
      ],
      "metadata": {
        "id": "htbjAvpORGZo"
      },
      "execution_count": null,
      "outputs": []
    },
    {
      "cell_type": "markdown",
      "source": [
        "**コード2-1-8 画像データ格納用numpy配列の作成**"
      ],
      "metadata": {
        "id": "x-xjxCaEwl_d"
      }
    },
    {
      "cell_type": "code",
      "source": [
        "images_temp = np.zeros((num_all,64,64,1), dtype = float)\n",
        "labels_temp = np.zeros((num_all, 1), dtype = int)\n",
        "print(images_temp.shape)\n",
        "print(labels_temp.shape)"
      ],
      "metadata": {
        "id": "f9uokCk1Rsu2"
      },
      "execution_count": null,
      "outputs": []
    },
    {
      "cell_type": "markdown",
      "source": [
        "**コード2-1-10 画像データの読み込み「list_healthy」**"
      ],
      "metadata": {
        "id": "cP_fWbyXIoV6"
      }
    },
    {
      "cell_type": "code",
      "source": [
        "path = '/content/images/COVID-NORMAL'\n",
        "for i in range(num_healthy):\n",
        "  file = f'{path}/healthy/{list_healthy[i]}'\n",
        "  file_img = load_img(file, color_mode='grayscale', target_size = (64,64), interpolation='lanczos')\n",
        "  images_temp[i]=img_to_array(file_img)/255"
      ],
      "metadata": {
        "id": "QYhVQ0SNu20z"
      },
      "execution_count": 9,
      "outputs": []
    },
    {
      "cell_type": "markdown",
      "source": [
        "**コード2-1-13 画像データの読み込み「list_covid19」**"
      ],
      "metadata": {
        "id": "qWRVb3BZJSa9"
      }
    },
    {
      "cell_type": "code",
      "source": [
        "for i in range(num_covid19):\n",
        "  file = f'{path}/covid19/{list_covid19[i]}'\n",
        "  file_img = load_img(file, color_mode='grayscale', target_size = (64,64), interpolation='lanczos')\n",
        "  images_temp[i + num_healthy] = img_to_array(file_img)/255\n",
        "  labels_temp[i + num_healthy] = 1"
      ],
      "metadata": {
        "id": "SUCt9PBTzRv5"
      },
      "execution_count": 10,
      "outputs": []
    },
    {
      "cell_type": "markdown",
      "source": [
        "**コード2-1-15~16 0から231までの数字の配列をシャッフルして作成**"
      ],
      "metadata": {
        "id": "Jm3eH0hyJs0U"
      }
    },
    {
      "cell_type": "code",
      "source": [
        "np.random.seed(0)\n",
        "num_list = np.arange(num_all)\n",
        "np.random.shuffle(num_list)\n",
        "print(num_list)"
      ],
      "metadata": {
        "id": "AzSBsygZ1XpV"
      },
      "execution_count": null,
      "outputs": []
    },
    {
      "cell_type": "markdown",
      "source": [
        "**コード2-1-17 images_tempとlabels_tempの配列をシャッフルする**"
      ],
      "metadata": {
        "id": "r0FE6HRVJ9AC"
      }
    },
    {
      "cell_type": "code",
      "source": [
        "x_train = images_temp[num_list]\n",
        "y_train = labels_temp[num_list]"
      ],
      "metadata": {
        "id": "9ZjG18QnHW59"
      },
      "execution_count": 12,
      "outputs": []
    },
    {
      "cell_type": "markdown",
      "source": [
        "# **STEP2：モデルの選択**"
      ],
      "metadata": {
        "id": "R78G1xA7KHN7"
      }
    },
    {
      "cell_type": "markdown",
      "source": [
        "**コード2-6 ランダムシード値の設定**"
      ],
      "metadata": {
        "id": "D5zknqgsQFII"
      }
    },
    {
      "cell_type": "code",
      "source": [
        "set_random_seed(0)\n",
        "tf.config.experimental.enable_op_determinism()"
      ],
      "metadata": {
        "id": "Gkp99uSZmpga"
      },
      "execution_count": 13,
      "outputs": []
    },
    {
      "cell_type": "markdown",
      "source": [
        "**コード2-7 モデルの設計**"
      ],
      "metadata": {
        "id": "RTgMsKPyQJNW"
      }
    },
    {
      "cell_type": "code",
      "source": [
        "model = Sequential()\n",
        "model.add(Flatten(input_shape = (64,64,1)))\n",
        "model.add(Dense(512, activation = 'relu'))\n",
        "model.add(Dense(256, activation = 'relu'))\n",
        "model.add(Dense(128, activation = 'relu'))\n",
        "model.add(Dense(1, activation = 'sigmoid'))\n",
        "model.compile(loss = 'binary_crossentropy', optimizer = 'Adam', metrics = ['accuracy'])\n",
        "model.summary()"
      ],
      "metadata": {
        "id": "DVA_FPsU6JtD"
      },
      "execution_count": null,
      "outputs": []
    },
    {
      "cell_type": "markdown",
      "source": [
        "# **STEP3：データを入れて学習**"
      ],
      "metadata": {
        "id": "Y1Llo3W5QOHc"
      }
    },
    {
      "cell_type": "markdown",
      "source": [
        "**コード2-8 データを入れて学習させる**"
      ],
      "metadata": {
        "id": "JhbeDI3JQSB_"
      }
    },
    {
      "cell_type": "code",
      "source": [
        "result = model.fit(x_train, y_train,\n",
        "                   batch_size = 32,\n",
        "                   epochs = 100,\n",
        "                   validation_split = 0.2)"
      ],
      "metadata": {
        "id": "ntXUxTVuHF2-"
      },
      "execution_count": null,
      "outputs": []
    },
    {
      "cell_type": "markdown",
      "source": [
        "# **STEP4：モデルの評価**"
      ],
      "metadata": {
        "id": "oo0wxHvZQgCT"
      }
    },
    {
      "cell_type": "markdown",
      "source": [
        "**コード2-9 正解率の図示**"
      ],
      "metadata": {
        "id": "FAIu_1vRQaEx"
      }
    },
    {
      "cell_type": "code",
      "source": [
        "plt.plot(result.history['accuracy'], label = 'accuracy')\n",
        "plt.plot(result.history['val_accuracy'], label = 'val_accuracy')\n",
        "plt.legend()\n",
        "plt.show()"
      ],
      "metadata": {
        "id": "Tt-nYaLuLhxD"
      },
      "execution_count": null,
      "outputs": []
    },
    {
      "cell_type": "markdown",
      "source": [
        "**コード2-10 損失の図示**"
      ],
      "metadata": {
        "id": "hxY3MipHQlCq"
      }
    },
    {
      "cell_type": "code",
      "source": [
        "plt.plot(result.history['loss'], label = 'loss')\n",
        "plt.plot(result.history['val_loss'], label = 'val_loss')\n",
        "plt.legend()\n",
        "plt.show()"
      ],
      "metadata": {
        "id": "XcOYgBTaLihe"
      },
      "execution_count": null,
      "outputs": []
    },
    {
      "cell_type": "markdown",
      "source": [
        "# **過学習を予測するため、別のモデルを作成**"
      ],
      "metadata": {
        "id": "ta4UesoBReQO"
      }
    },
    {
      "cell_type": "markdown",
      "source": [
        "# **STEP2：学習モデルの選択(model_d)**"
      ],
      "metadata": {
        "id": "4vw24f58RixD"
      }
    },
    {
      "cell_type": "markdown",
      "source": [
        "**コード2-11 ドロップアウトを入れたモデルの設計**"
      ],
      "metadata": {
        "id": "_DWfsUmYRpJr"
      }
    },
    {
      "cell_type": "code",
      "source": [
        "model_d = Sequential()\n",
        "model_d.add(Flatten(input_shape = (64,64,1)))\n",
        "model_d.add(Dense(512, activation = 'relu'))\n",
        "model_d.add(Dropout(0.5))\n",
        "model_d.add(Dense(256, activation = 'relu'))\n",
        "model_d.add(Dropout(0.5))\n",
        "model_d.add(Dense(128, activation = 'relu'))\n",
        "model_d.add(Dense(1, activation = 'sigmoid'))\n",
        "model_d.compile(loss = 'binary_crossentropy', optimizer = 'Adam', metrics = ['accuracy'])\n",
        "model_d.summary()\n"
      ],
      "metadata": {
        "id": "GP1S0fkbUhDb"
      },
      "execution_count": null,
      "outputs": []
    },
    {
      "cell_type": "markdown",
      "source": [
        "# **STEP3：データを入れて学習**"
      ],
      "metadata": {
        "id": "CKsIr22NR2rI"
      }
    },
    {
      "cell_type": "markdown",
      "source": [
        "**コード2-12 データを入れて学習させる**"
      ],
      "metadata": {
        "id": "ll6XBBEmRzBw"
      }
    },
    {
      "cell_type": "code",
      "source": [
        "result_d = model_d.fit(x_train, y_train,\n",
        "                       batch_size = 32,\n",
        "                       epochs = 100,\n",
        "                       validation_split = 0.2)"
      ],
      "metadata": {
        "id": "rrwRiS7uVYP6"
      },
      "execution_count": null,
      "outputs": []
    },
    {
      "cell_type": "markdown",
      "source": [
        "# **STEP4：モデルの評価**"
      ],
      "metadata": {
        "id": "OfIwfBcgSDH1"
      }
    },
    {
      "cell_type": "markdown",
      "source": [
        "**コード2-13 ドロップアウトを加えたモデルの学習過程の図示**"
      ],
      "metadata": {
        "id": "PWYICo1BR-G8"
      }
    },
    {
      "cell_type": "code",
      "source": [
        "plt.plot(result_d.history['accuracy'], label = 'accuracy')\n",
        "plt.plot(result_d.history['val_accuracy'], label = 'val_accuracy')\n",
        "plt.legend()\n",
        "plt.show()"
      ],
      "metadata": {
        "id": "exWbfCPdVY6n"
      },
      "execution_count": null,
      "outputs": []
    },
    {
      "cell_type": "code",
      "source": [
        "plt.plot(result_d.history['loss'], label = 'loss')\n",
        "plt.plot(result_d.history['val_loss'], label = 'val_loss')\n",
        "plt.legend()\n",
        "plt.show()"
      ],
      "metadata": {
        "id": "U6jdQgaYVblJ"
      },
      "execution_count": null,
      "outputs": []
    },
    {
      "cell_type": "markdown",
      "source": [
        "# **STEP5：予測**"
      ],
      "metadata": {
        "id": "6rqzbf9YSP9A"
      }
    },
    {
      "cell_type": "markdown",
      "source": [
        "**コード2-14 別の画像データ(covid19肺炎のX線写真)を読み込む**"
      ],
      "metadata": {
        "id": "G-15lXgeSTQw"
      }
    },
    {
      "cell_type": "code",
      "source": [
        "img1 = img_to_array(load_img('/content/images/covid.jpg',\n",
        "                             color_mode = 'grayscale',\n",
        "                             target_size = (64,64)))/255\n",
        "check = np.zeros((1,64,64,1))\n",
        "check[0] = img1"
      ],
      "metadata": {
        "id": "N_wypndnXYnz"
      },
      "execution_count": 22,
      "outputs": []
    },
    {
      "cell_type": "markdown",
      "source": [
        "**コード2-15 画像をモデルに当てはめて予測を行う**"
      ],
      "metadata": {
        "id": "JWr-jXNDSeMy"
      }
    },
    {
      "cell_type": "code",
      "source": [
        "print(model_d.predict(check))"
      ],
      "metadata": {
        "id": "HwhVYEFEbV0N"
      },
      "execution_count": null,
      "outputs": []
    },
    {
      "cell_type": "markdown",
      "source": [
        "**コード2-16 画像データ（健康な肺のX線写真）を読み込む**"
      ],
      "metadata": {
        "id": "X3pI2dn3Smbr"
      }
    },
    {
      "cell_type": "code",
      "source": [
        "img2 = img_to_array(load_img('/content/images/NORMAL.jpg',\n",
        "                             color_mode = 'grayscale',\n",
        "                             target_size = (64,64)))/255\n",
        "check = np.zeros((1,64,64,1))\n",
        "check[0] = img2"
      ],
      "metadata": {
        "id": "kheoNp4ZbJ6w"
      },
      "execution_count": 24,
      "outputs": []
    },
    {
      "cell_type": "markdown",
      "source": [
        "**コード2-17 画像をモデルに当てはめて予測を行う**"
      ],
      "metadata": {
        "id": "HamzZtM0S0gB"
      }
    },
    {
      "cell_type": "code",
      "source": [
        "print(model_d.predict(check))"
      ],
      "metadata": {
        "id": "gYEucDxkS2LU"
      },
      "execution_count": null,
      "outputs": []
    }
  ]
}