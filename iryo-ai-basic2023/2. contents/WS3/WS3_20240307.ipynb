{
  "nbformat": 4,
  "nbformat_minor": 0,
  "metadata": {
    "colab": {
      "provenance": [],
      "collapsed_sections": [
        "-tOs_KiZTleg"
      ]
    },
    "kernelspec": {
      "name": "python3",
      "display_name": "Python 3"
    },
    "language_info": {
      "name": "python"
    }
  },
  "cells": [
    {
      "cell_type": "markdown",
      "source": [
        "## エラーになって手が止まってしまった場合を想定して実行用のコードも用意しています"
      ],
      "metadata": {
        "id": "KoVV-b0UTrhn"
      }
    },
    {
      "cell_type": "markdown",
      "source": [
        "## コード記載(この左の矢印をクリックするとコードが表示されます)"
      ],
      "metadata": {
        "id": "-tOs_KiZTleg"
      }
    },
    {
      "cell_type": "markdown",
      "source": [
        "3-1.transformersのインストール"
      ],
      "metadata": {
        "id": "VM8OvtVGUgbe"
      }
    },
    {
      "cell_type": "code",
      "execution_count": null,
      "metadata": {
        "id": "WhRUdORbE4Uc"
      },
      "outputs": [],
      "source": [
        "!pip install transformers"
      ]
    },
    {
      "cell_type": "markdown",
      "source": [
        "3-2. テキスト分類(ポジティブ)"
      ],
      "metadata": {
        "id": "BQBxkyUSUl5z"
      }
    },
    {
      "cell_type": "code",
      "source": [
        "from transformers import pipeline\n",
        "nlp = pipeline('sentiment-analysis')\n",
        "text = \"A gripping thriller that keeps you on the edge of your seat until the very end.\"\n",
        "nlp(text)"
      ],
      "metadata": {
        "id": "5hlOyXF9FxBZ"
      },
      "execution_count": null,
      "outputs": []
    },
    {
      "cell_type": "markdown",
      "source": [
        "3-3.テキスト分類(ネガティブ)"
      ],
      "metadata": {
        "id": "Yx8vIzEqUusI"
      }
    },
    {
      "cell_type": "code",
      "source": [
        "from transformers import pipeline\n",
        "nlp = pipeline('sentiment-analysis')\n",
        "text = 'Unfortunately, the movie failed to deliver on its promising premise, \\\n",
        "with weak character development and a disjointed plot that left audiences feeling unsatisfied.'\n",
        "nlp(text)"
      ],
      "metadata": {
        "id": "GNqw1pXBU3y_"
      },
      "execution_count": null,
      "outputs": []
    },
    {
      "cell_type": "markdown",
      "source": [
        "3-4. 要約"
      ],
      "metadata": {
        "id": "h4WtrtcUU4h9"
      }
    },
    {
      "cell_type": "code",
      "source": [
        "nlp = pipeline('summarization')\n",
        "text = 'Periodontal disease is an oral condition characterized by inflammation of \\\n",
        "the gums and destruction of the surrounding tissues. Risk factors include poor oral hygiene, \\\n",
        "inadequate dental care, smoking, and genetic predisposition. In its early stages, \\\n",
        "symptoms may include gum bleeding and swelling, progressing to bone loss, tooth mobility, \\\n",
        "and even tooth loss in severe cases. Regular dental check-ups and proper oral hygiene management \\\n",
        "are crucial for prevention. Treatment may involve interventions by a dentist to halt \\\n",
        "the progression of periodontal disease depending on its severity.'\n",
        "nlp(text,max_length=25, min_length=10)"
      ],
      "metadata": {
        "id": "nH8CTReNFw_b"
      },
      "execution_count": null,
      "outputs": []
    },
    {
      "cell_type": "markdown",
      "source": [
        "3-5. テキスト生成"
      ],
      "metadata": {
        "id": "_svrlpDrVBBz"
      }
    },
    {
      "cell_type": "code",
      "source": [
        "nlp = pipeline('text-generation')\n",
        "text = 'I will now explain the cause of cancer.'\n",
        "nlp(text,max_length=200, min_length=50)"
      ],
      "metadata": {
        "id": "0LonUJ9BFw9Q"
      },
      "execution_count": null,
      "outputs": []
    },
    {
      "cell_type": "markdown",
      "source": [
        "## 演習のデモはここから下のセルで実際にタイピングします"
      ],
      "metadata": {
        "id": "Gd6-TGw3ULkO"
      }
    },
    {
      "cell_type": "code",
      "source": [],
      "metadata": {
        "id": "Z5P_0yxOFwzd"
      },
      "execution_count": null,
      "outputs": []
    },
    {
      "cell_type": "code",
      "source": [],
      "metadata": {
        "id": "sMGeAaqiFwwA"
      },
      "execution_count": null,
      "outputs": []
    },
    {
      "cell_type": "code",
      "source": [],
      "metadata": {
        "id": "2nhR4rTIUKBL"
      },
      "execution_count": null,
      "outputs": []
    }
  ]
}