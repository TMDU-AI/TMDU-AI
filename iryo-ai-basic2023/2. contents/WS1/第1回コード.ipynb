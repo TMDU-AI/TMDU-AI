{
  "nbformat": 4,
  "nbformat_minor": 0,
  "metadata": {
    "colab": {
      "provenance": []
    },
    "kernelspec": {
      "name": "python3",
      "display_name": "Python 3"
    },
    "language_info": {
      "name": "python"
    }
  },
  "cells": [
    {
      "cell_type": "markdown",
      "source": [
        "# 2月22日ワークショップ第1回コード"
      ],
      "metadata": {
        "id": "2tN1zDJ5z39E"
      }
    },
    {
      "cell_type": "markdown",
      "source": [
        "**コード01**"
      ],
      "metadata": {
        "id": "_bjTu8dyAiMQ"
      }
    },
    {
      "cell_type": "code",
      "execution_count": null,
      "metadata": {
        "id": "mlBPq5lLAJqv"
      },
      "outputs": [],
      "source": [
        "a = 100\n",
        "print(a)"
      ]
    },
    {
      "cell_type": "markdown",
      "source": [
        "**コード02**：データの型"
      ],
      "metadata": {
        "id": "ZmUfLA8RAy9J"
      }
    },
    {
      "cell_type": "code",
      "source": [
        "a = 5\n",
        "b = 2.22\n",
        "c = 'Hello, World!'\n",
        "d = [1,2,3,4,5]"
      ],
      "metadata": {
        "id": "6o-A3NliBU0-"
      },
      "execution_count": 4,
      "outputs": []
    },
    {
      "cell_type": "markdown",
      "source": [
        "**コード03**：aの型"
      ],
      "metadata": {
        "id": "GfCl0PdRBEcp"
      }
    },
    {
      "cell_type": "code",
      "source": [
        "a = 'hello world' # ''(シングルクォーテーション）の中に文字を入れます\n",
        "print(a)\n",
        "a = [2,22] # []角括弧の中にリストを作ります\n",
        "print(a)"
      ],
      "metadata": {
        "id": "yw7c-ghyA1_5"
      },
      "execution_count": null,
      "outputs": []
    },
    {
      "cell_type": "markdown",
      "source": [
        "**コード04**"
      ],
      "metadata": {
        "id": "5ncW24sNFCJb"
      }
    },
    {
      "cell_type": "code",
      "source": [
        "fruits = ['apple', 'banana', 'cherry','melon']\n",
        "#インデックスを使用して要素にアクセスします\n",
        "print(fruits[0])\n",
        "print(fruits[1:3])"
      ],
      "metadata": {
        "id": "NqRe2BBMFGW7"
      },
      "execution_count": null,
      "outputs": []
    },
    {
      "cell_type": "markdown",
      "source": [
        "**コード05**:Pandasをインポートします。"
      ],
      "metadata": {
        "id": "FEOw_80MXC7Q"
      }
    },
    {
      "cell_type": "code",
      "source": [
        "import pandas as pd"
      ],
      "metadata": {
        "id": "eit5UEuuwqwm"
      },
      "execution_count": 7,
      "outputs": []
    },
    {
      "cell_type": "markdown",
      "source": [
        "**コード06**:Google Driveをマウントします。"
      ],
      "metadata": {
        "id": "g9mNSH5D_fln"
      }
    },
    {
      "cell_type": "code",
      "source": [
        "from google.colab import drive\n",
        "drive.mount('/content/drive')"
      ],
      "metadata": {
        "id": "Am8SZJhjIUbs"
      },
      "execution_count": null,
      "outputs": []
    },
    {
      "cell_type": "markdown",
      "source": [
        "**コード07**:CSVファイルを読み込みます。"
      ],
      "metadata": {
        "id": "bUpBbYpW_noS"
      }
    },
    {
      "cell_type": "code",
      "execution_count": null,
      "metadata": {
        "id": "G_Dp0-ap9wyo"
      },
      "outputs": [],
      "source": [
        "klist = pd.read_csv('/content/drive/My Drive/dwhdata20240222.csv', encoding='utf-8')\n",
        "print(klist)"
      ]
    },
    {
      "cell_type": "markdown",
      "source": [
        "**コード08**:\n",
        "データフレームklistの形状を知りたいです"
      ],
      "metadata": {
        "id": "S-Suu2X0_uJk"
      }
    },
    {
      "cell_type": "code",
      "source": [
        "print(klist.shape)"
      ],
      "metadata": {
        "id": "Ph1NEV4XXd20"
      },
      "execution_count": null,
      "outputs": []
    },
    {
      "cell_type": "markdown",
      "source": [
        "**コード09**: データフレームklistのサイズを知りたいです"
      ],
      "metadata": {
        "id": "bk2sz6is_4v9"
      }
    },
    {
      "cell_type": "code",
      "source": [
        "print(klist.size)"
      ],
      "metadata": {
        "id": "LsX7zYUuFyFS"
      },
      "execution_count": null,
      "outputs": []
    },
    {
      "cell_type": "markdown",
      "source": [
        "# コード10:データフレーム基本操作"
      ],
      "metadata": {
        "id": "qKi9A428kvWq"
      }
    },
    {
      "cell_type": "markdown",
      "source": [
        "コード10-1"
      ],
      "metadata": {
        "id": "v-EnOMmN4edC"
      }
    },
    {
      "cell_type": "code",
      "source": [
        "#データフレームにある単一のセル値を取り出す。\n",
        "#dataframe名.loc[行のインデックス番号, '列名']\n",
        "print(klist.loc[0,'tooth record'])"
      ],
      "metadata": {
        "id": "DiOBNLzY1ss-"
      },
      "execution_count": null,
      "outputs": []
    },
    {
      "cell_type": "markdown",
      "source": [
        "コード10-2"
      ],
      "metadata": {
        "id": "KKc4hr1-4jIP"
      }
    },
    {
      "cell_type": "code",
      "source": [
        "#データフレームのtooth record列を取り出す。\n",
        "#dataframe名.loc[:, '列名']\n",
        "print(klist.loc[:,'tooth record'])"
      ],
      "metadata": {
        "id": "_ywINX9azLt3"
      },
      "execution_count": null,
      "outputs": []
    },
    {
      "cell_type": "markdown",
      "source": [
        "# コード11: 歯の本数を集計します"
      ],
      "metadata": {
        "id": "cmZB8NYKnk6l"
      }
    },
    {
      "cell_type": "markdown",
      "source": [
        "コード11-1"
      ],
      "metadata": {
        "id": "Y1YWoDRN5FSY"
      }
    },
    {
      "cell_type": "code",
      "source": [
        "klist['tooth exist'] = None   #'tooth exist'列を追加します。\n",
        "print(klist)"
      ],
      "metadata": {
        "id": "2hHbeiK4FFog"
      },
      "execution_count": null,
      "outputs": []
    },
    {
      "cell_type": "markdown",
      "source": [
        "コード11-2"
      ],
      "metadata": {
        "id": "lbWzBrTn5HoJ"
      }
    },
    {
      "cell_type": "code",
      "source": [
        "for i in range(53024):                         #53024はデータフレームの行数です。\n",
        "    if klist.loc[i,'tooth record'] == '残存歯':        #klist.loc[i,'tooth record']はtooth record列にあるデータを示します。\n",
        "        klist.loc[i,'tooth exist'] = 1                 #klist.loc[i,'tooth exist']はtooth exist列にあるデータを示します。\n",
        "    else:\n",
        "        klist.loc[i,'tooth exist'] = 0"
      ],
      "metadata": {
        "id": "U1KqgNbI6seS"
      },
      "execution_count": 15,
      "outputs": []
    },
    {
      "cell_type": "markdown",
      "source": [
        "コード11-3"
      ],
      "metadata": {
        "id": "2tqYWfBR5KYt"
      }
    },
    {
      "cell_type": "code",
      "source": [
        "print(klist)"
      ],
      "metadata": {
        "id": "aT63GUfn7Uxo"
      },
      "execution_count": null,
      "outputs": []
    },
    {
      "cell_type": "markdown",
      "source": [
        "## **コード13：散布図を作ります**"
      ],
      "metadata": {
        "id": "GgOEe-1509B2"
      }
    },
    {
      "cell_type": "markdown",
      "source": [
        "コード13-1: 散布図X軸"
      ],
      "metadata": {
        "id": "m4amMv7x1Ho0"
      }
    },
    {
      "cell_type": "code",
      "source": [
        "x = klist.groupby('id')['age'].mean()\n",
        "print(x)"
      ],
      "metadata": {
        "id": "wjtAnPkzj5qv"
      },
      "execution_count": null,
      "outputs": []
    },
    {
      "cell_type": "markdown",
      "source": [
        "コード13-2: 散布図y軸"
      ],
      "metadata": {
        "id": "gKzCRFeB1wkC"
      }
    },
    {
      "cell_type": "code",
      "source": [
        "y = klist.groupby('id')['tooth exist'].sum()\n",
        "print(y)"
      ],
      "metadata": {
        "id": "LIc2QGWxXydU"
      },
      "execution_count": null,
      "outputs": []
    },
    {
      "cell_type": "markdown",
      "source": [
        "コード13-3: X、Y軸をnumpy配列にします"
      ],
      "metadata": {
        "id": "PTUB68oi4HZo"
      }
    },
    {
      "cell_type": "code",
      "source": [
        "import numpy as np\n",
        "x = np.array(x)\n",
        "y = np.array(y)"
      ],
      "metadata": {
        "id": "9ax7VUFSB_fS"
      },
      "execution_count": 19,
      "outputs": []
    },
    {
      "cell_type": "markdown",
      "source": [
        "コード13-4: matplotlibライブラリと日本語入力方法をインポートします"
      ],
      "metadata": {
        "id": "JUSaYIXc4MTu"
      }
    },
    {
      "cell_type": "code",
      "source": [
        "import matplotlib.pyplot as plt\n",
        "!pip install japanize-matplotlib\n",
        "import japanize_matplotlib"
      ],
      "metadata": {
        "id": "AeIqf3TJCBba"
      },
      "execution_count": null,
      "outputs": []
    },
    {
      "cell_type": "markdown",
      "source": [
        "コード13-5:散布図を作成します"
      ],
      "metadata": {
        "id": "aaP5aEs8SVPI"
      }
    },
    {
      "cell_type": "code",
      "source": [
        "#散布図を作成します\n",
        "plt.figure()\n",
        "plt.title('散布図：年齢と歯の本数')\n",
        "plt.xlabel('年齢')\n",
        "plt.ylabel('歯の本数')\n",
        "plt.grid()\n",
        "plt.scatter(x,y)\n",
        "plt.show()"
      ],
      "metadata": {
        "id": "59ZkwFWVhSIw"
      },
      "execution_count": null,
      "outputs": []
    }
  ]
}