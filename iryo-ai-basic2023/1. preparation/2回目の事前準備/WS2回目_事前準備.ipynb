{
  "nbformat": 4,
  "nbformat_minor": 0,
  "metadata": {
    "colab": {
      "provenance": []
    },
    "kernelspec": {
      "name": "python3",
      "display_name": "Python 3"
    },
    "language_info": {
      "name": "python"
    }
  },
  "cells": [
    {
      "cell_type": "markdown",
      "source": [
        "## **WS2回目に使う画像データを読み込めるか確認する**"
      ],
      "metadata": {
        "id": "_x4Ci1ORQ7ZK"
      }
    },
    {
      "cell_type": "markdown",
      "source": [
        "**コード1 Google Driveのマウント**"
      ],
      "metadata": {
        "id": "1L3DFmjCgmwi"
      }
    },
    {
      "cell_type": "code",
      "source": [
        "from google.colab import drive\n",
        "drive.mount('/content/drive', force_remount=True)"
      ],
      "metadata": {
        "id": "NEg6ASDmbl4I"
      },
      "execution_count": null,
      "outputs": []
    },
    {
      "cell_type": "markdown",
      "source": [
        "**コード2 zipファイルを解凍する**"
      ],
      "metadata": {
        "id": "0H0LcieuhIW5"
      }
    },
    {
      "cell_type": "code",
      "source": [
        "!unzip '/content/drive/MyDrive/images_TMDU_2023.zip'"
      ],
      "metadata": {
        "id": "EAtxy54P2Say"
      },
      "execution_count": null,
      "outputs": []
    }
  ]
}