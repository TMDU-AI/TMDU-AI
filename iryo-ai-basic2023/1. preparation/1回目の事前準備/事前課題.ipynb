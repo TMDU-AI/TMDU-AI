{
  "cells": [
    {
      "cell_type": "markdown",
      "metadata": {
        "id": "aL6aDmimk6G8"
      },
      "source": [
        "下記コードの実行結果をWebClassの「事前課題」に入力して提出してください"
      ]
    },
    {
      "cell_type": "code",
      "execution_count": null,
      "metadata": {
        "id": "uKQgw9LoZMkv"
      },
      "outputs": [],
      "source": [
        "import base64\n",
        "encoded_base64 = b'44KI44KN44GX44GP44GK6aGY44GE6Ie044GX44G+44GZ'\n",
        "decoded_base64 = base64.b64decode(encoded_base64)\n",
        "decoded_utf8 = decoded_base64.decode('utf-8')\n",
        "print(decoded_utf8)"
      ]
    },
    {
      "cell_type": "code",
      "execution_count": null,
      "metadata": {
        "id": "Kwk-WNwgZg9x"
      },
      "outputs": [],
      "source": []
    }
  ],
  "metadata": {
    "colab": {
      "provenance": []
    },
    "kernelspec": {
      "display_name": "Python 3",
      "name": "python3"
    },
    "language_info": {
      "name": "python"
    }
  },
  "nbformat": 4,
  "nbformat_minor": 0
}
